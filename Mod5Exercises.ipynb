{
 "cells": [
  {
   "cell_type": "markdown",
   "metadata": {},
   "source": [
    "# Module 5 Exercises - Time Series"
   ]
  },
  {
   "cell_type": "markdown",
   "metadata": {},
   "source": [
    "### Exercise 1:\n",
    "\n",
    "Create a numPy datetime variable with today's date. Then create 7 consectuive days (1 week) starting from the variable with today's date."
   ]
  },
  {
   "cell_type": "code",
   "execution_count": 18,
   "metadata": {},
   "outputs": [],
   "source": [
    "import pandas as pd\n",
    "import numpy as np\n",
    "import seaborn; seaborn.set()\n",
    "import matplotlib.pyplot as plt\n",
    "\n",
    "from datetime import datetime\n",
    "\n",
    "%matplotlib inline"
   ]
  },
  {
   "cell_type": "markdown",
   "metadata": {},
   "source": [
    "### Exercise 2:\n",
    "\n",
    "Create a pandas datetime index with the dates 2016-02-11, 2016-07-01, 2016-07-09, 2016-10-08, 2017-02-18, 2017-02-25, 2017-05-02, 2017-08-26, 2017-12-15, and 2018-02-11. Then create a pandas Series with the values 0,1,2,3,4,5,6,7,8, and 9 in a list, with the dates as the index. Get the rows from the year 2017.  "
   ]
  },
  {
   "cell_type": "code",
   "execution_count": 19,
   "metadata": {
    "scrolled": false
   },
   "outputs": [
    {
     "data": {
      "text/plain": [
       "2016-02-11    0\n",
       "2016-07-01    1\n",
       "2016-07-09    2\n",
       "2016-10-08    3\n",
       "2017-02-18    4\n",
       "2017-02-25    5\n",
       "2017-05-02    6\n",
       "2017-08-26    7\n",
       "2017-12-15    8\n",
       "2018-02-11    9\n",
       "dtype: int64"
      ]
     },
     "execution_count": 19,
     "metadata": {},
     "output_type": "execute_result"
    }
   ],
   "source": [
    "index = pd.DatetimeIndex(['2016-02-11', '2016-07-01', '2016-07-09', '2016-10-08', '2017-02-18', '2017-02-25', '2017-05-02', '2017-08-26', '2017-12-15', '2018-02-11'])\n",
    "\n",
    "data = pd.Series([0,1,2,3,4,5,6,7,8,9], index=index) \n",
    "data                         "
   ]
  },
  {
   "cell_type": "code",
   "execution_count": 20,
   "metadata": {
    "scrolled": true
   },
   "outputs": [
    {
     "data": {
      "text/plain": [
       "2017-02-18    4\n",
       "2017-02-25    5\n",
       "2017-05-02    6\n",
       "2017-08-26    7\n",
       "2017-12-15    8\n",
       "dtype: int64"
      ]
     },
     "execution_count": 20,
     "metadata": {},
     "output_type": "execute_result"
    }
   ],
   "source": [
    "data['2017']"
   ]
  },
  {
   "cell_type": "markdown",
   "metadata": {},
   "source": [
    "### Exercise 3:\n",
    "\n",
    "Convert the following date formats into pandas datetime:\n",
    "\n",
    "- datetime(2017, 12, 15)\n",
    "- 8th of October 2016\n",
    "- 20180211\n",
    "- 2017-02-25\n",
    "- 2019-Jan-16"
   ]
  },
  {
   "cell_type": "code",
   "execution_count": 21,
   "metadata": {},
   "outputs": [
    {
     "data": {
      "text/plain": [
       "DatetimeIndex(['2017-12-15', '2016-10-08', '2018-02-11', '2017-02-25',\n",
       "               '2019-01-16'],\n",
       "              dtype='datetime64[ns]', freq=None)"
      ]
     },
     "execution_count": 21,
     "metadata": {},
     "output_type": "execute_result"
    }
   ],
   "source": [
    "dates = pd.to_datetime([datetime(2017, 12, 15), '8th of October 2016', '20180211', '2017-02-25', '2019-Jan-16'])\n",
    "dates"
   ]
  },
  {
   "cell_type": "markdown",
   "metadata": {},
   "source": [
    "### Exercise 4:\n",
    "\n",
    "Using the pandas library, make a time delta range that has five periods with a 1 hour 45 minute interval."
   ]
  },
  {
   "cell_type": "code",
   "execution_count": 22,
   "metadata": {},
   "outputs": [
    {
     "data": {
      "text/plain": [
       "TimedeltaIndex(['00:00:00', '01:45:00', '03:30:00', '05:15:00', '07:00:00'], dtype='timedelta64[ns]', freq='105T')"
      ]
     },
     "execution_count": 22,
     "metadata": {},
     "output_type": "execute_result"
    }
   ],
   "source": [
    "pd.timedelta_range(0, periods=5, freq='1H45T')"
   ]
  },
  {
   "cell_type": "markdown",
   "metadata": {},
   "source": [
    "### Exercise 5:\n",
    "\n",
    "Using the pandas library, create a time delta range with 20 business days starting from today's date."
   ]
  },
  {
   "cell_type": "code",
   "execution_count": 23,
   "metadata": {},
   "outputs": [
    {
     "data": {
      "text/plain": [
       "DatetimeIndex(['2019-05-30', '2019-05-31', '2019-06-03', '2019-06-04',\n",
       "               '2019-06-05', '2019-06-06', '2019-06-07', '2019-06-10',\n",
       "               '2019-06-11', '2019-06-12', '2019-06-13', '2019-06-14',\n",
       "               '2019-06-17', '2019-06-18', '2019-06-19', '2019-06-20',\n",
       "               '2019-06-21', '2019-06-24', '2019-06-25', '2019-06-26'],\n",
       "              dtype='datetime64[ns]', freq='B')"
      ]
     },
     "execution_count": 23,
     "metadata": {},
     "output_type": "execute_result"
    }
   ],
   "source": [
    "from pandas.tseries.offsets import BDay\n",
    "\n",
    "pd.date_range('2019-05-30', periods=20, freq=BDay())"
   ]
  },
  {
   "cell_type": "markdown",
   "metadata": {},
   "source": [
    "### Exercise 6:\n",
    "\n",
    "From [this link](https://notebooks.azure.com/priesterkc/projects/DABmaterial/tree/Lv1%20Data%20Analytics/datasets), download the \"smalltravel.csv\" file and upload it to your datasets folder. Import the traveltime_s.csv file into a dataframe. Resample the average speed column by week using the mean, and plot the graph. \n",
    "\n",
    "**Tip**: You do not need to add the line style in the plot code."
   ]
  },
  {
   "cell_type": "code",
   "execution_count": 30,
   "metadata": {},
   "outputs": [
    {
     "data": {
      "text/plain": [
       "<bound method NDFrame.head of            Date GoingTo  AvgSpeed  MovingTime\n",
       "0    2012-01-06    Home      78.3        36.3\n",
       "1    2012-01-06     GSK      81.8        34.9\n",
       "2    2012-01-04    Home      82.0        35.9\n",
       "3    2012-01-04     GSK      74.2        35.6\n",
       "4    2012-01-03    Home      83.4        34.8\n",
       "5    2012-01-03     GSK      84.5        35.0\n",
       "6    2012-01-02    Home      82.9        35.3\n",
       "7    2012-01-02     GSK      77.5        34.3\n",
       "8    2011-12-23     GSK      80.9        36.0\n",
       "9    2011-12-22    Home      70.6        39.3\n",
       "10   2011-12-22     GSK      74.0        36.2\n",
       "11   2011-12-21     GSK      71.7        39.4\n",
       "12   2011-12-20    Home      75.2        37.3\n",
       "13   2011-12-20     GSK      77.4        35.9\n",
       "14   2011-12-19    Home      77.5        36.7\n",
       "15   2011-12-19     GSK      76.5        35.5\n",
       "16   2011-12-16    Home      86.9        33.8\n",
       "17   2011-12-16     GSK      71.1        36.7\n",
       "18   2011-12-15    Home      80.5        36.1\n",
       "19   2011-12-15     GSK      68.1        40.9\n",
       "20   2011-12-14    Home      75.1        38.6\n",
       "21   2011-12-14     GSK      76.6        37.5\n",
       "22   2011-12-13    Home      74.8        37.2\n",
       "23   2011-12-13     GSK      65.4        39.8\n",
       "24   2011-12-12     GSK      65.7        39.7\n",
       "25   2011-12-09    Home      87.3        34.0\n",
       "26   2011-12-09     GSK      74.0        40.1\n",
       "27   2011-12-08    Home      74.6        37.6\n",
       "28   2011-12-08     GSK      76.5        36.7\n",
       "29   2011-12-07    Home      79.9        35.8\n",
       "..          ...     ...       ...         ...\n",
       "175  2011-08-05    Home      74.5        37.7\n",
       "176  2011-08-05     GSK      74.1        36.9\n",
       "177  2011-08-04    Home      70.3        38.9\n",
       "178  2011-08-04     GSK      71.5        38.2\n",
       "179  2011-08-03    Home      72.2        39.4\n",
       "180  2011-08-03     GSK      71.5        37.4\n",
       "181  2011-08-02    Home      76.3        36.9\n",
       "182  2011-08-02     GSK      68.8        40.7\n",
       "183  2011-07-29    Home     107.7        27.6\n",
       "184  2011-07-29     GSK      73.2        37.9\n",
       "185  2011-07-28    Home      76.0        36.2\n",
       "186  2011-07-28     GSK      69.1        40.3\n",
       "187  2011-07-27    Home      68.3        42.6\n",
       "188  2011-07-27     GSK      70.4        37.6\n",
       "189  2011-07-26    Home      43.7        59.8\n",
       "190  2011-07-26     GSK      71.9        38.4\n",
       "191  2011-07-25    Home      70.4        38.9\n",
       "192  2011-07-25     GSK      63.4        37.0\n",
       "193  2011-07-22    Home      75.8        37.6\n",
       "194  2011-07-22     GSK      88.9        31.7\n",
       "195  2011-07-21     GSK      81.5        32.6\n",
       "196  2011-07-20    Home      58.6        45.2\n",
       "197  2011-07-20     GSK      75.7        33.3\n",
       "198  2011-07-19    Home      92.2        29.9\n",
       "199  2011-07-19     GSK      82.3        31.7\n",
       "200  2011-07-18     GSK      49.9        39.7\n",
       "201  2011-07-14     GSK      76.2        32.1\n",
       "202  2011-07-13    Home      57.5        40.6\n",
       "203  2011-07-12    Home      61.6        36.5\n",
       "204  2011-07-11    Home      62.8        33.6\n",
       "\n",
       "[205 rows x 4 columns]>"
      ]
     },
     "execution_count": 30,
     "metadata": {},
     "output_type": "execute_result"
    }
   ],
   "source": [
    "df = pd.read_csv('datasets/smalltravel.csv')\n",
    "df.head"
   ]
  },
  {
   "cell_type": "code",
   "execution_count": 31,
   "metadata": {},
   "outputs": [
    {
     "ename": "SyntaxError",
     "evalue": "invalid syntax (<ipython-input-31-52476b8d9f1e>, line 1)",
     "output_type": "error",
     "traceback": [
      "\u001b[1;36m  File \u001b[1;32m\"<ipython-input-31-52476b8d9f1e>\"\u001b[1;36m, line \u001b[1;32m1\u001b[0m\n\u001b[1;33m    index = pd.DatetimeIndex(['2011-07-11':'2012-01-06'])\u001b[0m\n\u001b[1;37m                                          ^\u001b[0m\n\u001b[1;31mSyntaxError\u001b[0m\u001b[1;31m:\u001b[0m invalid syntax\n"
     ]
    }
   ],
   "source": [
    "index = pd.DatetimeIndex(['2011-07-11':'2012-01-06'])\n",
    "\n",
    "df = pd.Series([0,1,2,3], index=index) #a series is a singular column from a dataframe\n",
    "df"
   ]
  },
  {
   "cell_type": "code",
   "execution_count": 26,
   "metadata": {
    "scrolled": true
   },
   "outputs": [],
   "source": [
    "#weekly = df['AvgSpeed'].resample('W').mean()\n",
    "#weekly.plot\n",
    "#plt.ylabel('Weekly Average Speed')"
   ]
  },
  {
   "cell_type": "markdown",
   "metadata": {},
   "source": [
    "### Exercise 7:\n",
    "\n",
    "Using the dataframe from the previous exercise, write code to group the moving time column by day of the week, then plot the graph.\n",
    "\n",
    "**Tip**: The index list only needs to contain the weekdays. You do not need to add the line style in the plot code."
   ]
  },
  {
   "cell_type": "code",
   "execution_count": null,
   "metadata": {},
   "outputs": [],
   "source": []
  }
 ],
 "metadata": {
  "kernelspec": {
   "display_name": "Python 3",
   "language": "python",
   "name": "python3"
  },
  "language_info": {
   "codemirror_mode": {
    "name": "ipython",
    "version": 3
   },
   "file_extension": ".py",
   "mimetype": "text/x-python",
   "name": "python",
   "nbconvert_exporter": "python",
   "pygments_lexer": "ipython3",
   "version": "3.7.3"
  }
 },
 "nbformat": 4,
 "nbformat_minor": 2
}
